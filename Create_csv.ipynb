{
 "cells": [
  {
   "cell_type": "markdown",
   "metadata": {},
   "source": [
    "Import libraries"
   ]
  },
  {
   "cell_type": "code",
   "execution_count": 4,
   "metadata": {},
   "outputs": [],
   "source": [
    "import os\n",
    "import torchaudio\n",
    "import pandas as pd\n",
    "import matplotlib.pyplot as plt\n",
    "from Constants.DataPaths import *\n",
    "import numpy as np"
   ]
  },
  {
   "cell_type": "markdown",
   "metadata": {},
   "source": [
    "Method to process each audio and convert it to image"
   ]
  },
  {
   "cell_type": "code",
   "execution_count": 5,
   "metadata": {},
   "outputs": [],
   "source": [
    "def process_audio(path):\n",
    "    audio, sr = torchaudio.load(path)\n",
    "    \n",
    "    if audio.shape[1] == 2:\n",
    "        audio = audio.mean(dim=1)  # Make it mono\n",
    "    \n",
    "    spectrogram = torchaudio.transforms.Spectrogram()(audio)\n",
    "    spectogram_np = spectrogram.numpy()\n",
    "    \n",
    "    # Convert spectrogram numpy array to string representation\n",
    "    spectogram_str = np.array2string(spectogram_np, separator=',', precision=10)\n",
    "    \n",
    "    return spectogram_str"
   ]
  },
  {
   "cell_type": "code",
   "execution_count": 6,
   "metadata": {},
   "outputs": [],
   "source": [
    "dataframe = pd.read_csv(LABELS_DATASET_PATH, usecols=['audio_path'])\n",
    "\n",
    "spectrograms = []\n",
    "\n",
    "for audio in dataframe['audio_path']:\n",
    "    spectrogram_str = process_audio(audio)\n",
    "    spectrograms.append(spectrogram_str)\n",
    "\n",
    "dataframe['spectogram_of_audio'] = spectrograms\n",
    "dataframe.to_csv(AUDIOS_DATASET_PATH)\n"
   ]
  }
 ],
 "metadata": {
  "kernelspec": {
   "display_name": ".venv",
   "language": "python",
   "name": "python3"
  },
  "language_info": {
   "codemirror_mode": {
    "name": "ipython",
    "version": 3
   },
   "file_extension": ".py",
   "mimetype": "text/x-python",
   "name": "python",
   "nbconvert_exporter": "python",
   "pygments_lexer": "ipython3",
   "version": "3.10.12"
  }
 },
 "nbformat": 4,
 "nbformat_minor": 2
}
