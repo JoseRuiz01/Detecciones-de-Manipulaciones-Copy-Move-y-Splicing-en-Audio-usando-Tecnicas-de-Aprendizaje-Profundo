{
 "cells": [
  {
   "cell_type": "markdown",
   "metadata": {},
   "source": [
    "Importar librerias"
   ]
  },
  {
   "cell_type": "code",
   "execution_count": 1,
   "metadata": {},
   "outputs": [],
   "source": [
    "import os\n",
    "import torchaudio\n",
    "import pandas as pd\n",
    "import matplotlib.pyplot as plt\n",
    "import numpy as np\n",
    "from sklearn.model_selection import train_test_split\n",
    "import random\n",
    "import torch\n",
    "from Data_Paths_Audio import *"
   ]
  },
  {
   "cell_type": "markdown",
   "metadata": {},
   "source": [
    "Establecer la semilla aleatoria"
   ]
  },
  {
   "cell_type": "code",
   "execution_count": 2,
   "metadata": {},
   "outputs": [],
   "source": [
    "# Seed\n",
    "SEED_AUG = 1234\n",
    "torch.manual_seed(SEED_AUG)\n",
    "np.random.seed(SEED_AUG)\n",
    "random.seed(SEED_AUG)"
   ]
  },
  {
   "cell_type": "markdown",
   "metadata": {},
   "source": [
    "Cargamos el csv con todos los audios y lo divisimos en 2 csv con los audios para test y para train"
   ]
  },
  {
   "cell_type": "code",
   "execution_count": 3,
   "metadata": {},
   "outputs": [],
   "source": [
    "# Load the data from CSV to a DataFrame\n",
    "df = pd.read_csv(LABELS_DATASET_PATH)\n",
    "\n",
    "# Shuffle the DataFrame\n",
    "df_shuffled = df.sample(frac=1, random_state=SEED_AUG).reset_index(drop=True)\n",
    "\n",
    "# Split the DataFrame into TRAIN and TEST sets (e.g., 80% train, 20% test)\n",
    "train_df, test_df = train_test_split(df_shuffled, test_size=0.2, random_state=SEED_AUG)\n",
    "\n",
    "# Save the TRAIN and TEST sets to CSV files\n",
    "train_df.to_csv(TRAIN_CSV, index=False)\n",
    "test_df.to_csv(TEST_CSV, index=False)\n"
   ]
  }
 ],
 "metadata": {
  "kernelspec": {
   "display_name": ".venv",
   "language": "python",
   "name": "python3"
  },
  "language_info": {
   "codemirror_mode": {
    "name": "ipython",
    "version": 3
   },
   "file_extension": ".py",
   "mimetype": "text/x-python",
   "name": "python",
   "nbconvert_exporter": "python",
   "pygments_lexer": "ipython3",
   "version": "3.10.12"
  }
 },
 "nbformat": 4,
 "nbformat_minor": 2
}
