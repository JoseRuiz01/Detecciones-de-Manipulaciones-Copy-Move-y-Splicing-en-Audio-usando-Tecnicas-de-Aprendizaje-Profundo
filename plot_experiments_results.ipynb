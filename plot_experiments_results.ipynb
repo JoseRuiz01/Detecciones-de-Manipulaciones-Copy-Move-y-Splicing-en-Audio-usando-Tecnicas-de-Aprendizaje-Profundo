{
 "cells": [
  {
   "cell_type": "markdown",
   "metadata": {},
   "source": [
    "# Archivo para mostrar las metricas obtenidas en cada experimento"
   ]
  },
  {
   "cell_type": "markdown",
   "metadata": {},
   "source": [
    "Primero importamos las librerias necesarias"
   ]
  },
  {
   "cell_type": "code",
   "execution_count": 2,
   "metadata": {},
   "outputs": [],
   "source": [
    "import plotly.express as px\n",
    "import pickle\n",
    "import pandas as pd\n",
    "import numpy as np\n",
    "import matplotlib.pyplot as plt\n"
   ]
  },
  {
   "cell_type": "markdown",
   "metadata": {},
   "source": [
    "Creamos una funcion para cargar los archivos .pkl"
   ]
  },
  {
   "cell_type": "code",
   "execution_count": 3,
   "metadata": {},
   "outputs": [],
   "source": [
    "def load_pickle(file_path):\n",
    "    with open(file_path, 'rb') as f:\n",
    "        result = pickle.load(f)\n",
    "    return result"
   ]
  },
  {
   "cell_type": "markdown",
   "metadata": {},
   "source": [
    "Añadimos las rutas a los archivos .pkl"
   ]
  },
  {
   "cell_type": "code",
   "execution_count": 4,
   "metadata": {},
   "outputs": [],
   "source": [
    "exp_1_path = '/home/jose/src/TFG/Model/Models/mel_preprocess_data_3_chans_history_torch_baseline_convnext_femto_224_custom_exp_0_mel_cv_sin_resize_BASELINE.pkl'\n",
    "exp_2_path = '/home/jose/src/TFG/Model/Models/mel_preprocess_data_3_chans_history_torch_baseline_convnext_femto_224_custom_exp_1_mel_cv_sin_resize.pkl'\n",
    "exp_3_path = '/home/jose/src/TFG/Model/Models/mel_preprocess_data_3_chans_history_torch_baseline_convnext_femto_224_custom_exp_2_mel_cv_aug_sin_resize.pkl'\n",
    "exp_4_path = '/home/jose/src/TFG/Model/Models/mel_preprocess_data_3_chans_history_torch_baseline_convnext_femto_224_custom_exp_3_mel_cv_con_resize.pkl'\n",
    "exp_5_path = '/home/jose/src/TFG/Model/Models/mfcc_preprocess_data_3_chans_history_torch_baseline_convnext_femto_224_custom_exp_7_mel_cv_con_resize_mfcc.pkl'\n",
    "\n",
    "experiments = [exp_1_path, exp_2_path, exp_3_path, exp_4_path, exp_5_path]\n"
   ]
  },
  {
   "cell_type": "markdown",
   "metadata": {},
   "source": [
    "Hacemos un diccionario de cada experimento"
   ]
  },
  {
   "cell_type": "code",
   "execution_count": 5,
   "metadata": {},
   "outputs": [
    {
     "name": "stdout",
     "output_type": "stream",
     "text": [
      "{'exp_1': [{'epoch': 33, 'train_loss': 0.8383240442065506, 'val_loss': 0.6549050938076898, 'train_acc': 0.7332045435905457, 'val_acc': 0.7731044292449951, 'val_f1': 0.7779104113578796, 'train_f1': 0.7155958414077759}, {'epoch': 39, 'train_loss': 0.8220820300712294, 'val_loss': 0.667560282541447, 'train_acc': 0.7442942261695862, 'val_acc': 0.7613734006881714, 'val_f1': 0.767756462097168, 'train_f1': 0.7292701005935669}, {'epoch': 37, 'train_loss': 0.82564473326139, 'val_loss': 0.6783306492384871, 'train_acc': 0.7420946955680847, 'val_acc': 0.7550085783004761, 'val_f1': 0.7599073648452759, 'train_f1': 0.7279402613639832}, {'epoch': 46, 'train_loss': 0.8285611753454193, 'val_loss': 0.6551315305433617, 'train_acc': 0.739733874797821, 'val_acc': 0.7736119031906128, 'val_f1': 0.7837803363800049, 'train_f1': 0.7247630953788757}, {'epoch': 49, 'train_loss': 0.8184483509357778, 'val_loss': 0.6625723304854985, 'train_acc': 0.7405208349227905, 'val_acc': 0.766743004322052, 'val_f1': 0.7742980718612671, 'train_f1': 0.7275111079216003}], 'exp_2': [{'epoch': 23, 'train_loss': 0.5204035972946744, 'val_loss': 0.5589080782791064, 'train_acc': 0.9964942336082458, 'val_acc': 0.8709585070610046, 'val_f1': 0.8913092017173767, 'train_f1': 0.9966955184936523}, {'epoch': 15, 'train_loss': 0.5426052858997178, 'val_loss': 0.5181967984623834, 'train_acc': 0.9838305711746216, 'val_acc': 0.8680973052978516, 'val_f1': 0.8944426774978638, 'train_f1': 0.9848710298538208}, {'epoch': 36, 'train_loss': 0.5160571761713943, 'val_loss': 0.5998119609862241, 'train_acc': 0.9990699887275696, 'val_acc': 0.8609043955802917, 'val_f1': 0.8814387321472168, 'train_f1': 0.9986847639083862}, {'epoch': 30, 'train_loss': 0.5172914715390773, 'val_loss': 0.5558340186450437, 'train_acc': 0.9977822303771973, 'val_acc': 0.8749284744262695, 'val_f1': 0.899840235710144, 'train_f1': 0.9983981847763062}, {'epoch': 17, 'train_loss': 0.534377628474434, 'val_loss': 0.5397593428833388, 'train_acc': 0.9889111518859863, 'val_acc': 0.8654837012290955, 'val_f1': 0.8903338313102722, 'train_f1': 0.990832507610321}], 'exp_3': [{'epoch': 44, 'train_loss': 3.0812040246453263, 'val_loss': 0.5126318654277294, 'train_acc': 0.9017671942710876, 'val_acc': 0.8706724047660828, 'val_f1': 0.8941724300384521, 'train_f1': 0.8899530172348022}, {'epoch': 50, 'train_loss': 2.961836655593493, 'val_loss': 0.5097691852945797, 'train_acc': 0.9237318634986877, 'val_acc': 0.8772532343864441, 'val_f1': 0.903613269329071, 'train_f1': 0.9119241237640381}, {'epoch': 33, 'train_loss': 3.1117293861977005, 'val_loss': 0.5369315230989702, 'train_acc': 0.9034196734428406, 'val_acc': 0.8566113114356995, 'val_f1': 0.8795956373214722, 'train_f1': 0.892314076423645}, {'epoch': 34, 'train_loss': 3.1670201774113576, 'val_loss': 0.5251678094122842, 'train_acc': 0.8914007544517517, 'val_acc': 0.8614768385887146, 'val_f1': 0.8900324702262878, 'train_f1': 0.8808563947677612}, {'epoch': 28, 'train_loss': 3.277985012399944, 'val_loss': 0.529372296881935, 'train_acc': 0.8748748302459717, 'val_acc': 0.866914689540863, 'val_f1': 0.8945506811141968, 'train_f1': 0.8646106719970703}], 'exp_4': [{'epoch': 44, 'train_loss': 3.0267327278735188, 'val_loss': 0.5426360887689823, 'train_acc': 0.9230879545211792, 'val_acc': 0.8615164756774902, 'val_f1': 0.8797883987426758, 'train_f1': 0.8998106718063354}, {'epoch': 33, 'train_loss': 3.043890020746167, 'val_loss': 0.5629935613347055, 'train_acc': 0.9172927141189575, 'val_acc': 0.85350501537323, 'val_f1': 0.8733944296836853, 'train_f1': 0.900483250617981}, {'epoch': 41, 'train_loss': 3.0229289457340545, 'val_loss': 0.5461378057274603, 'train_acc': 0.9252396821975708, 'val_acc': 0.854035496711731, 'val_f1': 0.8741058111190796, 'train_f1': 0.9018573760986328}, {'epoch': 30, 'train_loss': 3.0929291516452886, 'val_loss': 0.5383963219322473, 'train_acc': 0.9143654108047485, 'val_acc': 0.8594734072685242, 'val_f1': 0.8884934186935425, 'train_f1': 0.8954653739929199}, {'epoch': 37, 'train_loss': 3.012099546942013, 'val_loss': 0.5589138937460468, 'train_acc': 0.925955057144165, 'val_acc': 0.8554664850234985, 'val_f1': 0.8761290311813354, 'train_f1': 0.9102849960327148}], 'exp_5': [{'epoch': 25, 'train_loss': 4.005101078457439, 'val_loss': 0.6716095634284449, 'train_acc': 0.6691707968711853, 'val_acc': 0.775965690612793, 'val_f1': 0.8234462738037109, 'train_f1': 0.6700514554977417}, {'epoch': 45, 'train_loss': 3.852115820105294, 'val_loss': 0.6641406805730173, 'train_acc': 0.7070901989936829, 'val_acc': 0.7851216197013855, 'val_f1': 0.8279550075531006, 'train_f1': 0.7100076079368591}, {'epoch': 41, 'train_loss': 3.9271482792274517, 'val_loss': 0.6635062024637025, 'train_acc': 0.6857919692993164, 'val_acc': 0.7730395197868347, 'val_f1': 0.8183503150939941, 'train_f1': 0.6879178285598755}, {'epoch': 20, 'train_loss': 4.05397047439108, 'val_loss': 0.6743311744522352, 'train_acc': 0.6549577713012695, 'val_acc': 0.7707498669624329, 'val_f1': 0.8169218897819519, 'train_f1': 0.6463363170623779}, {'epoch': 22, 'train_loss': 4.025116859305858, 'val_loss': 0.6543939037533166, 'train_acc': 0.6583917737007141, 'val_acc': 0.7756153345108032, 'val_f1': 0.820982813835144, 'train_f1': 0.6590006351470947}]}\n"
     ]
    }
   ],
   "source": [
    "results = {}\n",
    "for i,e in enumerate(experiments):\n",
    "    results[f'exp_{i+1}'] = load_pickle(e) \n",
    "    \n",
    "print(results)"
   ]
  },
  {
   "cell_type": "markdown",
   "metadata": {},
   "source": [
    "Representamos graficamente los experimentos segun su valor de ``val_f1``"
   ]
  },
  {
   "cell_type": "code",
   "execution_count": 6,
   "metadata": {},
   "outputs": [
    {
     "data": {
      "application/vnd.plotly.v1+json": {
       "config": {
        "plotlyServerURL": "https://plot.ly"
       },
       "data": [
        {
         "alignmentgroup": "True",
         "hovertemplate": "Experimentos=%{x}<br>F1-score=%{y}<extra></extra>",
         "legendgroup": "Exp. 1",
         "marker": {
          "color": "#1f77b4"
         },
         "name": "Exp. 1",
         "notched": false,
         "offsetgroup": "Exp. 1",
         "orientation": "v",
         "showlegend": true,
         "type": "box",
         "x": [
          "Exp. 1",
          "Exp. 1",
          "Exp. 1",
          "Exp. 1",
          "Exp. 1"
         ],
         "x0": " ",
         "xaxis": "x",
         "y": [
          0.7779104113578796,
          0.767756462097168,
          0.7599073648452759,
          0.7837803363800049,
          0.7742980718612671
         ],
         "y0": " ",
         "yaxis": "y"
        },
        {
         "alignmentgroup": "True",
         "hovertemplate": "Experimentos=%{x}<br>F1-score=%{y}<extra></extra>",
         "legendgroup": "Exp. 2",
         "marker": {
          "color": "#1f77b4"
         },
         "name": "Exp. 2",
         "notched": false,
         "offsetgroup": "Exp. 2",
         "orientation": "v",
         "showlegend": true,
         "type": "box",
         "x": [
          "Exp. 2",
          "Exp. 2",
          "Exp. 2",
          "Exp. 2",
          "Exp. 2"
         ],
         "x0": " ",
         "xaxis": "x",
         "y": [
          0.8913092017173767,
          0.8944426774978638,
          0.8814387321472168,
          0.899840235710144,
          0.8903338313102722
         ],
         "y0": " ",
         "yaxis": "y"
        },
        {
         "alignmentgroup": "True",
         "hovertemplate": "Experimentos=%{x}<br>F1-score=%{y}<extra></extra>",
         "legendgroup": "Exp. 3",
         "marker": {
          "color": "#ee5c13"
         },
         "name": "Exp. 3",
         "notched": false,
         "offsetgroup": "Exp. 3",
         "orientation": "v",
         "showlegend": true,
         "type": "box",
         "x": [
          "Exp. 3",
          "Exp. 3",
          "Exp. 3",
          "Exp. 3",
          "Exp. 3"
         ],
         "x0": " ",
         "xaxis": "x",
         "y": [
          0.8941724300384521,
          0.903613269329071,
          0.8795956373214722,
          0.8900324702262878,
          0.8945506811141968
         ],
         "y0": " ",
         "yaxis": "y"
        },
        {
         "alignmentgroup": "True",
         "hovertemplate": "Experimentos=%{x}<br>F1-score=%{y}<extra></extra>",
         "legendgroup": "Exp. 4",
         "marker": {
          "color": "#1f77b4"
         },
         "name": "Exp. 4",
         "notched": false,
         "offsetgroup": "Exp. 4",
         "orientation": "v",
         "showlegend": true,
         "type": "box",
         "x": [
          "Exp. 4",
          "Exp. 4",
          "Exp. 4",
          "Exp. 4",
          "Exp. 4"
         ],
         "x0": " ",
         "xaxis": "x",
         "y": [
          0.8797883987426758,
          0.8733944296836853,
          0.8741058111190796,
          0.8884934186935425,
          0.8761290311813354
         ],
         "y0": " ",
         "yaxis": "y"
        },
        {
         "alignmentgroup": "True",
         "hovertemplate": "Experimentos=%{x}<br>F1-score=%{y}<extra></extra>",
         "legendgroup": "Exp. 5",
         "marker": {
          "color": "#1f77b4"
         },
         "name": "Exp. 5",
         "notched": false,
         "offsetgroup": "Exp. 5",
         "orientation": "v",
         "showlegend": true,
         "type": "box",
         "x": [
          "Exp. 5",
          "Exp. 5",
          "Exp. 5",
          "Exp. 5",
          "Exp. 5"
         ],
         "x0": " ",
         "xaxis": "x",
         "y": [
          0.8234462738037109,
          0.8279550075531006,
          0.8183503150939941,
          0.8169218897819519,
          0.820982813835144
         ],
         "y0": " ",
         "yaxis": "y"
        }
       ],
       "layout": {
        "boxmode": "overlay",
        "height": 600,
        "legend": {
         "title": {
          "text": "Experimentos"
         },
         "tracegroupgap": 0
        },
        "margin": {
         "t": 60
        },
        "template": {
         "data": {
          "bar": [
           {
            "error_x": {
             "color": "#2a3f5f"
            },
            "error_y": {
             "color": "#2a3f5f"
            },
            "marker": {
             "line": {
              "color": "#E5ECF6",
              "width": 0.5
             },
             "pattern": {
              "fillmode": "overlay",
              "size": 10,
              "solidity": 0.2
             }
            },
            "type": "bar"
           }
          ],
          "barpolar": [
           {
            "marker": {
             "line": {
              "color": "#E5ECF6",
              "width": 0.5
             },
             "pattern": {
              "fillmode": "overlay",
              "size": 10,
              "solidity": 0.2
             }
            },
            "type": "barpolar"
           }
          ],
          "carpet": [
           {
            "aaxis": {
             "endlinecolor": "#2a3f5f",
             "gridcolor": "white",
             "linecolor": "white",
             "minorgridcolor": "white",
             "startlinecolor": "#2a3f5f"
            },
            "baxis": {
             "endlinecolor": "#2a3f5f",
             "gridcolor": "white",
             "linecolor": "white",
             "minorgridcolor": "white",
             "startlinecolor": "#2a3f5f"
            },
            "type": "carpet"
           }
          ],
          "choropleth": [
           {
            "colorbar": {
             "outlinewidth": 0,
             "ticks": ""
            },
            "type": "choropleth"
           }
          ],
          "contour": [
           {
            "colorbar": {
             "outlinewidth": 0,
             "ticks": ""
            },
            "colorscale": [
             [
              0,
              "#0d0887"
             ],
             [
              0.1111111111111111,
              "#46039f"
             ],
             [
              0.2222222222222222,
              "#7201a8"
             ],
             [
              0.3333333333333333,
              "#9c179e"
             ],
             [
              0.4444444444444444,
              "#bd3786"
             ],
             [
              0.5555555555555556,
              "#d8576b"
             ],
             [
              0.6666666666666666,
              "#ed7953"
             ],
             [
              0.7777777777777778,
              "#fb9f3a"
             ],
             [
              0.8888888888888888,
              "#fdca26"
             ],
             [
              1,
              "#f0f921"
             ]
            ],
            "type": "contour"
           }
          ],
          "contourcarpet": [
           {
            "colorbar": {
             "outlinewidth": 0,
             "ticks": ""
            },
            "type": "contourcarpet"
           }
          ],
          "heatmap": [
           {
            "colorbar": {
             "outlinewidth": 0,
             "ticks": ""
            },
            "colorscale": [
             [
              0,
              "#0d0887"
             ],
             [
              0.1111111111111111,
              "#46039f"
             ],
             [
              0.2222222222222222,
              "#7201a8"
             ],
             [
              0.3333333333333333,
              "#9c179e"
             ],
             [
              0.4444444444444444,
              "#bd3786"
             ],
             [
              0.5555555555555556,
              "#d8576b"
             ],
             [
              0.6666666666666666,
              "#ed7953"
             ],
             [
              0.7777777777777778,
              "#fb9f3a"
             ],
             [
              0.8888888888888888,
              "#fdca26"
             ],
             [
              1,
              "#f0f921"
             ]
            ],
            "type": "heatmap"
           }
          ],
          "heatmapgl": [
           {
            "colorbar": {
             "outlinewidth": 0,
             "ticks": ""
            },
            "colorscale": [
             [
              0,
              "#0d0887"
             ],
             [
              0.1111111111111111,
              "#46039f"
             ],
             [
              0.2222222222222222,
              "#7201a8"
             ],
             [
              0.3333333333333333,
              "#9c179e"
             ],
             [
              0.4444444444444444,
              "#bd3786"
             ],
             [
              0.5555555555555556,
              "#d8576b"
             ],
             [
              0.6666666666666666,
              "#ed7953"
             ],
             [
              0.7777777777777778,
              "#fb9f3a"
             ],
             [
              0.8888888888888888,
              "#fdca26"
             ],
             [
              1,
              "#f0f921"
             ]
            ],
            "type": "heatmapgl"
           }
          ],
          "histogram": [
           {
            "marker": {
             "pattern": {
              "fillmode": "overlay",
              "size": 10,
              "solidity": 0.2
             }
            },
            "type": "histogram"
           }
          ],
          "histogram2d": [
           {
            "colorbar": {
             "outlinewidth": 0,
             "ticks": ""
            },
            "colorscale": [
             [
              0,
              "#0d0887"
             ],
             [
              0.1111111111111111,
              "#46039f"
             ],
             [
              0.2222222222222222,
              "#7201a8"
             ],
             [
              0.3333333333333333,
              "#9c179e"
             ],
             [
              0.4444444444444444,
              "#bd3786"
             ],
             [
              0.5555555555555556,
              "#d8576b"
             ],
             [
              0.6666666666666666,
              "#ed7953"
             ],
             [
              0.7777777777777778,
              "#fb9f3a"
             ],
             [
              0.8888888888888888,
              "#fdca26"
             ],
             [
              1,
              "#f0f921"
             ]
            ],
            "type": "histogram2d"
           }
          ],
          "histogram2dcontour": [
           {
            "colorbar": {
             "outlinewidth": 0,
             "ticks": ""
            },
            "colorscale": [
             [
              0,
              "#0d0887"
             ],
             [
              0.1111111111111111,
              "#46039f"
             ],
             [
              0.2222222222222222,
              "#7201a8"
             ],
             [
              0.3333333333333333,
              "#9c179e"
             ],
             [
              0.4444444444444444,
              "#bd3786"
             ],
             [
              0.5555555555555556,
              "#d8576b"
             ],
             [
              0.6666666666666666,
              "#ed7953"
             ],
             [
              0.7777777777777778,
              "#fb9f3a"
             ],
             [
              0.8888888888888888,
              "#fdca26"
             ],
             [
              1,
              "#f0f921"
             ]
            ],
            "type": "histogram2dcontour"
           }
          ],
          "mesh3d": [
           {
            "colorbar": {
             "outlinewidth": 0,
             "ticks": ""
            },
            "type": "mesh3d"
           }
          ],
          "parcoords": [
           {
            "line": {
             "colorbar": {
              "outlinewidth": 0,
              "ticks": ""
             }
            },
            "type": "parcoords"
           }
          ],
          "pie": [
           {
            "automargin": true,
            "type": "pie"
           }
          ],
          "scatter": [
           {
            "fillpattern": {
             "fillmode": "overlay",
             "size": 10,
             "solidity": 0.2
            },
            "type": "scatter"
           }
          ],
          "scatter3d": [
           {
            "line": {
             "colorbar": {
              "outlinewidth": 0,
              "ticks": ""
             }
            },
            "marker": {
             "colorbar": {
              "outlinewidth": 0,
              "ticks": ""
             }
            },
            "type": "scatter3d"
           }
          ],
          "scattercarpet": [
           {
            "marker": {
             "colorbar": {
              "outlinewidth": 0,
              "ticks": ""
             }
            },
            "type": "scattercarpet"
           }
          ],
          "scattergeo": [
           {
            "marker": {
             "colorbar": {
              "outlinewidth": 0,
              "ticks": ""
             }
            },
            "type": "scattergeo"
           }
          ],
          "scattergl": [
           {
            "marker": {
             "colorbar": {
              "outlinewidth": 0,
              "ticks": ""
             }
            },
            "type": "scattergl"
           }
          ],
          "scattermapbox": [
           {
            "marker": {
             "colorbar": {
              "outlinewidth": 0,
              "ticks": ""
             }
            },
            "type": "scattermapbox"
           }
          ],
          "scatterpolar": [
           {
            "marker": {
             "colorbar": {
              "outlinewidth": 0,
              "ticks": ""
             }
            },
            "type": "scatterpolar"
           }
          ],
          "scatterpolargl": [
           {
            "marker": {
             "colorbar": {
              "outlinewidth": 0,
              "ticks": ""
             }
            },
            "type": "scatterpolargl"
           }
          ],
          "scatterternary": [
           {
            "marker": {
             "colorbar": {
              "outlinewidth": 0,
              "ticks": ""
             }
            },
            "type": "scatterternary"
           }
          ],
          "surface": [
           {
            "colorbar": {
             "outlinewidth": 0,
             "ticks": ""
            },
            "colorscale": [
             [
              0,
              "#0d0887"
             ],
             [
              0.1111111111111111,
              "#46039f"
             ],
             [
              0.2222222222222222,
              "#7201a8"
             ],
             [
              0.3333333333333333,
              "#9c179e"
             ],
             [
              0.4444444444444444,
              "#bd3786"
             ],
             [
              0.5555555555555556,
              "#d8576b"
             ],
             [
              0.6666666666666666,
              "#ed7953"
             ],
             [
              0.7777777777777778,
              "#fb9f3a"
             ],
             [
              0.8888888888888888,
              "#fdca26"
             ],
             [
              1,
              "#f0f921"
             ]
            ],
            "type": "surface"
           }
          ],
          "table": [
           {
            "cells": {
             "fill": {
              "color": "#EBF0F8"
             },
             "line": {
              "color": "white"
             }
            },
            "header": {
             "fill": {
              "color": "#C8D4E3"
             },
             "line": {
              "color": "white"
             }
            },
            "type": "table"
           }
          ]
         },
         "layout": {
          "annotationdefaults": {
           "arrowcolor": "#2a3f5f",
           "arrowhead": 0,
           "arrowwidth": 1
          },
          "autotypenumbers": "strict",
          "coloraxis": {
           "colorbar": {
            "outlinewidth": 0,
            "ticks": ""
           }
          },
          "colorscale": {
           "diverging": [
            [
             0,
             "#8e0152"
            ],
            [
             0.1,
             "#c51b7d"
            ],
            [
             0.2,
             "#de77ae"
            ],
            [
             0.3,
             "#f1b6da"
            ],
            [
             0.4,
             "#fde0ef"
            ],
            [
             0.5,
             "#f7f7f7"
            ],
            [
             0.6,
             "#e6f5d0"
            ],
            [
             0.7,
             "#b8e186"
            ],
            [
             0.8,
             "#7fbc41"
            ],
            [
             0.9,
             "#4d9221"
            ],
            [
             1,
             "#276419"
            ]
           ],
           "sequential": [
            [
             0,
             "#0d0887"
            ],
            [
             0.1111111111111111,
             "#46039f"
            ],
            [
             0.2222222222222222,
             "#7201a8"
            ],
            [
             0.3333333333333333,
             "#9c179e"
            ],
            [
             0.4444444444444444,
             "#bd3786"
            ],
            [
             0.5555555555555556,
             "#d8576b"
            ],
            [
             0.6666666666666666,
             "#ed7953"
            ],
            [
             0.7777777777777778,
             "#fb9f3a"
            ],
            [
             0.8888888888888888,
             "#fdca26"
            ],
            [
             1,
             "#f0f921"
            ]
           ],
           "sequentialminus": [
            [
             0,
             "#0d0887"
            ],
            [
             0.1111111111111111,
             "#46039f"
            ],
            [
             0.2222222222222222,
             "#7201a8"
            ],
            [
             0.3333333333333333,
             "#9c179e"
            ],
            [
             0.4444444444444444,
             "#bd3786"
            ],
            [
             0.5555555555555556,
             "#d8576b"
            ],
            [
             0.6666666666666666,
             "#ed7953"
            ],
            [
             0.7777777777777778,
             "#fb9f3a"
            ],
            [
             0.8888888888888888,
             "#fdca26"
            ],
            [
             1,
             "#f0f921"
            ]
           ]
          },
          "colorway": [
           "#636efa",
           "#EF553B",
           "#00cc96",
           "#ab63fa",
           "#FFA15A",
           "#19d3f3",
           "#FF6692",
           "#B6E880",
           "#FF97FF",
           "#FECB52"
          ],
          "font": {
           "color": "#2a3f5f"
          },
          "geo": {
           "bgcolor": "white",
           "lakecolor": "white",
           "landcolor": "#E5ECF6",
           "showlakes": true,
           "showland": true,
           "subunitcolor": "white"
          },
          "hoverlabel": {
           "align": "left"
          },
          "hovermode": "closest",
          "mapbox": {
           "style": "light"
          },
          "paper_bgcolor": "white",
          "plot_bgcolor": "#E5ECF6",
          "polar": {
           "angularaxis": {
            "gridcolor": "white",
            "linecolor": "white",
            "ticks": ""
           },
           "bgcolor": "#E5ECF6",
           "radialaxis": {
            "gridcolor": "white",
            "linecolor": "white",
            "ticks": ""
           }
          },
          "scene": {
           "xaxis": {
            "backgroundcolor": "#E5ECF6",
            "gridcolor": "white",
            "gridwidth": 2,
            "linecolor": "white",
            "showbackground": true,
            "ticks": "",
            "zerolinecolor": "white"
           },
           "yaxis": {
            "backgroundcolor": "#E5ECF6",
            "gridcolor": "white",
            "gridwidth": 2,
            "linecolor": "white",
            "showbackground": true,
            "ticks": "",
            "zerolinecolor": "white"
           },
           "zaxis": {
            "backgroundcolor": "#E5ECF6",
            "gridcolor": "white",
            "gridwidth": 2,
            "linecolor": "white",
            "showbackground": true,
            "ticks": "",
            "zerolinecolor": "white"
           }
          },
          "shapedefaults": {
           "line": {
            "color": "#2a3f5f"
           }
          },
          "ternary": {
           "aaxis": {
            "gridcolor": "white",
            "linecolor": "white",
            "ticks": ""
           },
           "baxis": {
            "gridcolor": "white",
            "linecolor": "white",
            "ticks": ""
           },
           "bgcolor": "#E5ECF6",
           "caxis": {
            "gridcolor": "white",
            "linecolor": "white",
            "ticks": ""
           }
          },
          "title": {
           "x": 0.05
          },
          "xaxis": {
           "automargin": true,
           "gridcolor": "white",
           "linecolor": "white",
           "ticks": "",
           "title": {
            "standoff": 15
           },
           "zerolinecolor": "white",
           "zerolinewidth": 2
          },
          "yaxis": {
           "automargin": true,
           "gridcolor": "white",
           "linecolor": "white",
           "ticks": "",
           "title": {
            "standoff": 15
           },
           "zerolinecolor": "white",
           "zerolinewidth": 2
          }
         }
        },
        "width": 800,
        "xaxis": {
         "anchor": "y",
         "categoryarray": [
          "Exp. 1",
          "Exp. 2",
          "Exp. 3",
          "Exp. 4",
          "Exp. 5"
         ],
         "categoryorder": "array",
         "domain": [
          0,
          1
         ],
         "title": {
          "text": "Experimentos"
         }
        },
        "yaxis": {
         "anchor": "x",
         "domain": [
          0,
          1
         ],
         "title": {
          "text": "F1-score"
         }
        }
       }
      }
     },
     "metadata": {},
     "output_type": "display_data"
    }
   ],
   "source": [
    "# Definir un tono de azul más oscuro\n",
    "custom_blue = '#1f77b4'  # Este es un tono de azul más oscuro\n",
    "# Definir el color destacado\n",
    "highlight_color = '#ee5c13'  # Por ejemplo, un tono de naranja\n",
    "\n",
    "# Crear un DataFrame con los valores de val_f1 de cada variable\n",
    "data = []\n",
    "variables = results.keys()\n",
    "\n",
    "for i, variable in enumerate(variables):\n",
    "  experiment_data = results[variable] \n",
    "  for j, epoch_data in enumerate(experiment_data):\n",
    "    data.append({'Experimentos': f'Exp. {i+1}', 'Época': j+1, 'F1-score': epoch_data['val_f1']})\n",
    "    \n",
    "df_val_f1 = pd.DataFrame(data)\n",
    "\n",
    "\n",
    "# Crear el diagrama de cajas con el tono de azul más oscuro \n",
    "fig = px.box(df_val_f1, x='Experimentos', y='F1-score', color='Experimentos', \n",
    "             color_discrete_map={'Exp. 1': custom_blue, 'Exp. 2': custom_blue, 'Exp. 3': highlight_color, \n",
    "                                 'Exp. 4': custom_blue, 'Exp. 5': custom_blue}, width=800, height=600)\n",
    "\n",
    "# Mostrar el gráfico\n",
    "fig.show()"
   ]
  },
  {
   "cell_type": "markdown",
   "metadata": {},
   "source": [
    "Métricas de los experimentos"
   ]
  },
  {
   "cell_type": "code",
   "execution_count": 7,
   "metadata": {},
   "outputs": [
    {
     "name": "stdout",
     "output_type": "stream",
     "text": [
      "  Experiment  F1-score val  F1-score train  Accuracy val  Accuracy train  \\\n",
      "0      exp_1      0.774298        0.727511      0.766743        0.740521   \n",
      "1      exp_2      0.891309        0.996696      0.868097        0.996494   \n",
      "2      exp_3      0.894172        0.889953      0.866915        0.901767   \n",
      "3      exp_4      0.876129        0.900483      0.855466        0.923088   \n",
      "4      exp_5      0.820983        0.670051      0.775615        0.669171   \n",
      "\n",
      "       Loss  \n",
      "0  0.662572  \n",
      "1  0.555834  \n",
      "2  0.525168  \n",
      "3  0.546138  \n",
      "4  0.664141  \n"
     ]
    }
   ],
   "source": [
    "# Lista para almacenar las métricas de todos los experimentos\n",
    "metrics_all_experiments = []\n",
    "\n",
    "# Iterar sobre los resultados de cada experimento\n",
    "for experiment, data in results.items():\n",
    "    # Extraer las métricas de cada experimento\n",
    "    val_accuracy = [epoch_data['val_acc'] for epoch_data in data]\n",
    "    val_f1_score = [epoch_data['val_f1'] for epoch_data in data]\n",
    "    val_loss = [epoch_data['val_loss'] for epoch_data in data]\n",
    "    train_accuracy = [epoch_data['train_acc'] for epoch_data in data]\n",
    "    train_f1_score = [epoch_data['train_f1'] for epoch_data in data]\n",
    "    \n",
    "    # Calcular la media de cada métrica y agregarla a la lista\n",
    "    median_val_accuracy = np.median(val_accuracy)\n",
    "    median_val_f1_score = np.median(val_f1_score)\n",
    "    median_val_loss = np.median(val_loss)\n",
    "    median_train_accuracy = np.median(train_accuracy)\n",
    "    median_train_f1_score = np.median(train_f1_score)\n",
    "    \n",
    "    metrics_all_experiments.append({\n",
    "        'Experiment': experiment,\n",
    "        'F1-score val': median_val_f1_score,\n",
    "        'F1-score train': median_train_f1_score,\n",
    "        'Accuracy val': median_val_accuracy,\n",
    "        'Accuracy train': median_train_accuracy,\n",
    "        'Loss': median_val_loss\n",
    "    })\n",
    "\n",
    "# Crear un DataFrame con las métricas de todos los experimentos\n",
    "df_metrics = pd.DataFrame(metrics_all_experiments)\n",
    "\n",
    "# Mostrar la tabla de métricas\n",
    "print(df_metrics)"
   ]
  },
  {
   "cell_type": "code",
   "execution_count": 26,
   "metadata": {},
   "outputs": [
    {
     "data": {
      "image/png": "[encoded data removed]",
      "text/plain": [
       "<Figure size 800x800 with 2 Axes>"
      ]
     },
     "metadata": {},
     "output_type": "display_data"
    }
   ],
   "source": [
    "# Datos del experimento exp_3\n",
    "exp_3_data = results['exp_3']\n",
    "epochs_3 = [entry['epoch'] for entry in exp_3_data]\n",
    "train_f1_3 = [entry['train_f1'] for entry in exp_3_data]\n",
    "val_f1_3 = [entry['val_f1'] for entry in exp_3_data]\n",
    "\n",
    "# Datos del experimento exp_2\n",
    "exp_2_data = results['exp_2']\n",
    "epochs_2 = [entry['epoch'] for entry in exp_2_data]\n",
    "train_f1_2 = [entry['train_f1'] for entry in exp_2_data]\n",
    "val_f1_2 = [entry['val_f1'] for entry in exp_2_data]\n",
    "\n",
    "# Crear las subgráficas\n",
    "fig, axes = plt.subplots(2, 1, figsize=(8, 8))\n",
    "\n",
    "# Gráfica para exp_3\n",
    "axes[0].bar(np.arange(len(epochs_3)) - 0.2, train_f1_3, width=0.4, label='Entrenamiento F1-score', alpha=0.5, color='green')\n",
    "axes[0].bar(np.arange(len(epochs_3)) + 0.2, val_f1_3, width=0.4, label='Validación F1-score', alpha=0.5, color='red')\n",
    "axes[0].set_title('Experimento con ADA')\n",
    "axes[0].set_xlabel('Fold')\n",
    "axes[0].set_ylabel('F1-score')\n",
    "axes[0].set_xticks(np.arange(len(epochs_3)))\n",
    "axes[0].set_xticklabels([f\"Fold {i+1}\" for i in range(len(epochs_3))])\n",
    "axes[0].legend()\n",
    "axes[0].grid(True)\n",
    "axes[0].set_ylim(bottom=0.7, top=1) \n",
    "\n",
    "\n",
    "# Gráfica para exp_2\n",
    "axes[1].bar(np.arange(len(epochs_2)) - 0.2, train_f1_2, width=0.4, label='Entrenamiento F1-score', alpha=0.5, color='blue')\n",
    "axes[1].bar(np.arange(len(epochs_2)) + 0.2, val_f1_2, width=0.4, label='Validación F1-score', alpha=0.5, color='orange')\n",
    "axes[1].set_title('Experimento sin ADA')\n",
    "axes[1].set_xlabel('Fold')\n",
    "axes[1].set_ylabel('F1-score')\n",
    "axes[1].set_xticks(np.arange(len(epochs_2)))\n",
    "axes[1].set_xticklabels([f\"Fold {i+1}\" for i in range(len(epochs_2))])\n",
    "axes[1].legend()\n",
    "axes[1].grid(True)\n",
    "axes[1].set_ylim(bottom=0.7, top=1) \n",
    "\n",
    "plt.tight_layout()\n",
    "plt.show()"
   ]
  },
  {
   "cell_type": "code",
   "execution_count": 30,
   "metadata": {},
   "outputs": [
    {
     "data": {
      "image/png": "[encoded data removed]",
      "text/plain": [
       "<Figure size 800x800 with 2 Axes>"
      ]
     },
     "metadata": {},
     "output_type": "display_data"
    }
   ],
   "source": [
    "# Datos del experimento exp_4\n",
    "exp_4_data = results['exp_4']\n",
    "epochs_4 = [entry['epoch'] for entry in exp_4_data]\n",
    "train_f1_4 = [entry['train_f1'] for entry in exp_4_data]\n",
    "val_f1_4 = [entry['val_f1'] for entry in exp_4_data]\n",
    "\n",
    "# Datos del experimento exp_5\n",
    "exp_5_data = results['exp_5']\n",
    "epochs_5 = [entry['epoch'] for entry in exp_5_data]\n",
    "train_f1_5 = [entry['train_f1'] for entry in exp_5_data]\n",
    "val_f1_5 = [entry['val_f1'] for entry in exp_5_data]\n",
    "\n",
    "# Crear las subgráficas\n",
    "fig, axes = plt.subplots(2, 1, figsize=(8, 8))\n",
    "\n",
    "# Gráfica para exp_3\n",
    "axes[0].bar(np.arange(len(epochs_4)) - 0.2, train_f1_4, width=0.4, label='Entrenamiento F1-score', alpha=0.5, color='green')\n",
    "axes[0].bar(np.arange(len(epochs_4)) + 0.2, val_f1_4, width=0.4, label='Validación F1-score', alpha=0.5, color='red')\n",
    "axes[0].set_title('Experimento con Mel')\n",
    "axes[0].set_xlabel('Fold')\n",
    "axes[0].set_ylabel('F1-score')\n",
    "axes[0].set_xticks(np.arange(len(epochs_4)))\n",
    "axes[0].set_xticklabels([f\"Fold {i+1}\" for i in range(len(epochs_4))])\n",
    "axes[0].legend()\n",
    "axes[0].grid(True)\n",
    "axes[0].set_ylim(bottom=0.6, top=1) \n",
    "\n",
    "\n",
    "# Gráfica para exp_2\n",
    "axes[1].bar(np.arange(len(epochs_5)) - 0.2, train_f1_5, width=0.4, label='Entrenamiento F1-score', alpha=0.5, color='blue')\n",
    "axes[1].bar(np.arange(len(epochs_5)) + 0.2, val_f1_5, width=0.4, label='Validación F1-score', alpha=0.5, color='orange')\n",
    "axes[1].set_title('Experimento con MFCC')\n",
    "axes[1].set_xlabel('Fold')\n",
    "axes[1].set_ylabel('F1-score')\n",
    "axes[1].set_xticks(np.arange(len(epochs_5)))\n",
    "axes[1].set_xticklabels([f\"Fold {i+1}\" for i in range(len(epochs_5))])\n",
    "axes[1].legend()\n",
    "axes[1].grid(True)\n",
    "axes[1].set_ylim(bottom=0.6, top=1) \n",
    "\n",
    "plt.tight_layout()\n",
    "plt.show()\n"
   ]
  },
  {
   "cell_type": "code",
   "execution_count": 45,
   "metadata": {},
   "outputs": [
    {
     "data": {
      "image/png": "[encoded data removed]",
      "text/plain": [
       "<Figure size 640x480 with 1 Axes>"
      ]
     },
     "metadata": {},
     "output_type": "display_data"
    }
   ],
   "source": [
    "# Asumiendo que 'results' es un diccionario con los resultados de tus experimentos\n",
    "exp_1_data = results['exp_1']\n",
    "exp_2_data = results['exp_2']\n",
    "exp_3_data = results['exp_3']\n",
    "exp_4_data = results['exp_4']\n",
    "exp_5_data = results['exp_5']\n",
    "\n",
    "# Extraer las épocas para cada experimento\n",
    "epochs_1 = [entry['epoch'] for entry in exp_1_data]\n",
    "epochs_2 = [entry['epoch'] for entry in exp_2_data]\n",
    "epochs_3 = [entry['epoch'] for entry in exp_3_data]\n",
    "epochs_4 = [entry['epoch'] for entry in exp_4_data]\n",
    "epochs_5 = [entry['epoch'] for entry in exp_5_data]\n",
    "\n",
    "# Calcular la media de las épocas para cada experimento\n",
    "media_epochs_1 = sum(epochs_1) / len(epochs_1)\n",
    "media_epochs_2 = sum(epochs_2) / len(epochs_2)\n",
    "media_epochs_3 = sum(epochs_3) / len(epochs_3)\n",
    "media_epochs_4 = sum(epochs_4) / len(epochs_4)\n",
    "media_epochs_5 = sum(epochs_5) / len(epochs_5)\n",
    "\n",
    "# Crear una lista con los nombres de los experimentos\n",
    "experimentos = ['exp_1', 'exp_2', 'exp_3', 'exp_4', 'exp_5']\n",
    "\n",
    "# Crear una lista con las medias de épocas para cada experimento\n",
    "medias_epocas = [media_epochs_1, media_epochs_2, media_epochs_3, media_epochs_4, media_epochs_5]\n",
    "\n",
    "# Importar matplotlib para el gráfico\n",
    "import matplotlib.pyplot as plt\n",
    "\n",
    "# Definir una lista de colores  \n",
    "colores = ['skyblue', 'tomato', 'lightgreen', 'lightcoral', 'purple']\n",
    "\n",
    "# Crear el gráfico con colores específicos para cada barra\n",
    "plt.bar(experimentos, medias_epocas, color=colores)\n",
    "plt.xlabel('Experimentos')\n",
    "plt.ylabel('Media de Épocas')\n",
    "plt.title('Media de Épocas de Entrenamiento por Experimento')\n",
    "plt.xticks(rotation=45)  \n",
    "plt.show()\n"
   ]
  }
 ],
 "metadata": {
  "kernelspec": {
   "display_name": "Python 3",
   "language": "python",
   "name": "python3"
  },
  "language_info": {
   "codemirror_mode": {
    "name": "ipython",
    "version": 3
   },
   "file_extension": ".py",
   "mimetype": "text/x-python",
   "name": "python",
   "nbconvert_exporter": "python",
   "pygments_lexer": "ipython3",
   "version": "3.10.12"
  }
 },
 "nbformat": 4,
 "nbformat_minor": 2
}
