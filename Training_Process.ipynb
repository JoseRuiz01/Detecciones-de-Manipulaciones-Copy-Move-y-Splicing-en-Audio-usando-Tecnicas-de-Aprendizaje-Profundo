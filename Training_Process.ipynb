{
 "cells": [
  {
   "cell_type": "markdown",
   "metadata": {},
   "source": [
    "# Imports\n",
    "This section contains all the imports."
   ]
  },
  {
   "cell_type": "code",
   "execution_count": 8,
   "metadata": {},
   "outputs": [],
   "source": [
    "import torch\n",
    "import torchaudio\n",
    "import torchaudio.transforms as T\n",
    "import torchvision.transforms as transforms\n",
    "from torchvision.transforms.functional import InterpolationMode\n",
    "from torch.utils.data import Dataset, DataLoader\n",
    "from torchsummary import summary\n",
    "from torchvision.transforms import v2\n",
    "import torch.nn as nn\n",
    "import torch.optim as optim\n",
    "from torchvision.transforms import ToTensor\n",
    "from torch.utils.data import random_split\n",
    "from torcheval.metrics import MulticlassAccuracy, MulticlassF1Score\n",
    "from torch.optim.lr_scheduler import CosineAnnealingLR, ExponentialLR,CosineAnnealingWarmRestarts\n",
    "import torch\n",
    "import torch.nn as nn\n",
    "import torchaudio\n",
    "import torchaudio.functional as F\n",
    "import numpy as np\n",
    "from tqdm import tqdm\n",
    "import pandas as pd\n",
    "from sklearn.model_selection import StratifiedKFold\n"
   ]
  },
  {
   "cell_type": "code",
   "execution_count": 9,
   "metadata": {},
   "outputs": [
    {
     "ename": "ModuleNotFoundError",
     "evalue": "No module named 'torchaudio_augmentations'",
     "output_type": "error",
     "traceback": [
      "\u001b[1;31m---------------------------------------------------------------------------\u001b[0m",
      "\u001b[1;31mModuleNotFoundError\u001b[0m                       Traceback (most recent call last)",
      "Cell \u001b[1;32mIn[9], line 1\u001b[0m\n\u001b[1;32m----> 1\u001b[0m \u001b[38;5;28;01mfrom\u001b[39;00m \u001b[38;5;21;01mtorchaudio_augmentations\u001b[39;00m \u001b[38;5;28;01mimport\u001b[39;00m (\n\u001b[0;32m      2\u001b[0m     Compose,\n\u001b[0;32m      3\u001b[0m     LowPassFilter,\n\u001b[0;32m      4\u001b[0m     HighLowPass,\n\u001b[0;32m      5\u001b[0m     Noise,\n\u001b[0;32m      6\u001b[0m     PitchShift,\n\u001b[0;32m      7\u001b[0m     RandomApply,\n\u001b[0;32m      8\u001b[0m )\n",
      "\u001b[1;31mModuleNotFoundError\u001b[0m: No module named 'torchaudio_augmentations'"
     ]
    }
   ],
   "source": [
    "from torchaudio_augmentations import (\n",
    "    Compose,\n",
    "    LowPassFilter,\n",
    "    HighLowPass,\n",
    "    Noise,\n",
    "    PitchShift,\n",
    "    RandomApply,\n",
    ")"
   ]
  },
  {
   "cell_type": "code",
   "execution_count": null,
   "metadata": {},
   "outputs": [],
   "source": [
    "print(torch.__version__)\n",
    "print(torchaudio.__version__)\n",
    "device = \"cuda\" if torch.cuda.is_available() else \"cpu\""
   ]
  },
  {
   "cell_type": "markdown",
   "metadata": {},
   "source": [
    "# Audio hyper-param "
   ]
  },
  {
   "cell_type": "code",
   "execution_count": null,
   "metadata": {},
   "outputs": [],
   "source": [
    "# ESPEC = 'mfcc'\n",
    "ESPEC = 'mel'\n",
    "SAMPLE_RATE = 16000\n",
    "MAX_DURATION = 60 # 20 seconds\n",
    "N_FFT = 1024\n",
    "PRETRAINED = True\n",
    "N = 30\n",
    "\n",
    "if N_FFT == 2048:\n",
    "    TIME_MASK_PARAM =10\n",
    "    FREQ_MASK_PARAM = 5\n",
    "    HOP_LENGTH = 1024\n",
    "else:\n",
    "    TIME_MASK_PARAM = 10\n",
    "    FREQ_MASK_PARAM = 5\n",
    "    HOP_LENGTH = 512\n",
    "\n",
    "        \n",
    "N_MELS = 224 #128\n",
    "N_MFCC = N_MELS\n",
    "N_LFCC = N_MELS\n",
    "RESIZE = False\n",
    "IMG_SIZE = 224 #384, #300 , 240\n",
    "NUM_CLASSES = 3\n",
    "SAMPLE_RATE = 16000\n",
    "\n",
    "num_samples = MAX_DURATION * SAMPLE_RATE\n",
    "exp_num = '43_mel_mix_up_cv'\n",
    "\n",
    "MODEL_NAME = 'convnextv2_femto.fcmae_ft_in1k' # tf_efficientnetv2_b0.in1k,tf_efficientnetv2_b3.in21k_ft_in1k (240x240),tf_efficientnetv2_s.in21k_ft_in1k (300x300),\n",
    "#convnextv2_nano.fcmae_ft_in22k_in1k, convnextv2_femto.fcmae_ft_in1k, convnextv2_nano.fcmae_ft_in22k_in1k_384\n"
   ]
  }
 ],
 "metadata": {
  "kernelspec": {
   "display_name": ".venv",
   "language": "python",
   "name": "python3"
  },
  "language_info": {
   "codemirror_mode": {
    "name": "ipython",
    "version": 3
   },
   "file_extension": ".py",
   "mimetype": "text/x-python",
   "name": "python",
   "nbconvert_exporter": "python",
   "pygments_lexer": "ipython3",
   "version": "3.11.8"
  }
 },
 "nbformat": 4,
 "nbformat_minor": 2
}
